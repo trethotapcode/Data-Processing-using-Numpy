{
 "cells": [
  {
   "cell_type": "markdown",
   "metadata": {},
   "source": [
    "#### 1. tạo một mảng phần tử"
   ]
  },
  {
   "cell_type": "code",
   "execution_count": null,
   "metadata": {},
   "outputs": [],
   "source": [
    "import numpy as np\n",
    "\n",
    "arr = np.array([1, 2, 3, 4, 5])\n",
    "print(arr)\n"
   ]
  },
  {
   "cell_type": "markdown",
   "metadata": {},
   "source": [
    "### 2. Tạo ra một mảng gồm n số 0. n nhập từ bàn phím"
   ]
  },
  {
   "cell_type": "code",
   "execution_count": null,
   "metadata": {},
   "outputs": [],
   "source": [
    "# using numpy\n",
    "new_arr = np.zeros(5)\n",
    "print(new_arr)\n",
    "\n",
    "\n",
    "# using list comprehension\n",
    "new_arr_2 = [0] * 5\n",
    "print(new_arr_2)"
   ]
  },
  {
   "cell_type": "markdown",
   "metadata": {},
   "source": [
    "### 3. truy xuất và thay đổi phần tử trong danh sách"
   ]
  },
  {
   "cell_type": "code",
   "execution_count": null,
   "metadata": {},
   "outputs": [],
   "source": [
    "# using list\n",
    "l_data = [4, 5, 6, 7, 8, 9]\n",
    "\n",
    "print(l_data[0]) # 4\n",
    "print(l_data[-1]) # 9\n",
    "\n",
    "\n",
    "# using numpy\n",
    "num_data = np.array([1, 2, 3, 4, 5, 6])\n",
    "\n",
    "print(num_data[0]) # 1\n",
    "print(num_data[-1]) # 6"
   ]
  },
  {
   "cell_type": "markdown",
   "metadata": {},
   "source": [
    "### 4. slicing trong danh sách"
   ]
  },
  {
   "cell_type": "code",
   "execution_count": null,
   "metadata": {},
   "outputs": [],
   "source": [
    "# using l_data and num_data in previous cell.\n",
    "\n",
    "print(l_data[1:4])  # [5, 6, 7]\n",
    "print(l_data[:])    # lấy hết\n",
    "print(l_data[:3])   # [4, 5, 6]\n",
    "print(l_data[1::2]) # [5, 7, 9]\n",
    "print(l_data[::2])  # [4, 6, 8]\n",
    "print(l_data[4:])   # [8, 9]\n",
    "\n",
    "print()\n",
    "\n",
    "# same as list, numpy uses numpy array to slicing array.\n",
    "print(num_data[1:4])  # [2 3 4]\n",
    "print(num_data[:])    # lấy hết\n",
    "print(num_data[:3])   # [1 2 3]\n",
    "print(num_data[1::2]) # [2 4 6]\n",
    "print(num_data[::2])  # [1 3 5]\n",
    "print(num_data[4:])   # [5 6]"
   ]
  },
  {
   "cell_type": "markdown",
   "metadata": {},
   "source": [
    "### 5. Thêm phần tử vào cuối danh sách\n"
   ]
  },
  {
   "cell_type": "code",
   "execution_count": null,
   "metadata": {},
   "outputs": [],
   "source": [
    "# using data cell 3\n",
    "\n",
    "# thêm 6 vào cuối list\n",
    "l_data.append(6)\n",
    "\n",
    "# thêm 7 vào cuối numpy.data\n",
    "num_data = np.append(num_data, 7)\n",
    "\n",
    "print(l_data)    # [4, 5, 6, 7, 8, 9, 6]\n",
    "print(num_data)  # [1 2 3 4 5 6 7]\n"
   ]
  },
  {
   "cell_type": "markdown",
   "metadata": {},
   "source": [
    "### 6. Thêm phần tử vào vị trí bất kỳ trong danh sách"
   ]
  },
  {
   "cell_type": "code",
   "execution_count": null,
   "metadata": {},
   "outputs": [],
   "source": [
    "# using data cell 3\n",
    "\n",
    "# thêm 2 vào index 1 trong list\n",
    "l_data.insert(1, 2)\n",
    "print(l_data)        # [4, 2, 5, 6, 7, 8, 9]\n",
    "\n",
    "# thêm 5 vào index 3 trong list\n",
    "num_data = np.insert(num_data, 2, 5)\n",
    "print(num_data)      # [1 2 5 3 4 5 6]\n"
   ]
  },
  {
   "cell_type": "markdown",
   "metadata": {},
   "source": [
    "### 7. Nối mảng trong danh sách"
   ]
  },
  {
   "cell_type": "code",
   "execution_count": null,
   "metadata": {},
   "outputs": [],
   "source": [
    "# using data cell 3\n",
    "\n",
    "# in list\n",
    "# add [4, 5] to l_data\n",
    "l_data.extend([4, 5])                  # [4, 5, 6, 7, 8, 9, 4, 5]\n",
    "print(l_data)\n",
    "\n",
    "# in numpy\n",
    "# add [5 6] to num_data\n",
    "num_data = np.append(num_data, [5, 6]) # [1 2 3 4 5 6 5 6]\n",
    "print(num_data)"
   ]
  },
  {
   "cell_type": "markdown",
   "metadata": {},
   "source": [
    "### 8. phép + và * trong danh sách"
   ]
  },
  {
   "cell_type": "code",
   "execution_count": null,
   "metadata": {},
   "outputs": [],
   "source": [
    "# khai báo mảng list\n",
    "list_data = [6, 5]\n",
    "list_data_2 = [1, 9]\n",
    "\n",
    "# khai báo mảng numpy\n",
    "numpy_data = np.array([1, 2])\n",
    "numpy_data_2 = np.array([3, 4])\n",
    "\n",
    "# PHÉP CỘNG TRONG LIST VÀ NUMPY \n",
    "# phép cộng trong list giống như phép nối chuỗi\n",
    "data_m = list_data_2 + list_data \n",
    "print(data_m)  # [6, 5, 1, 9]\n",
    "#---------------------------------#\n",
    "\n",
    "\n",
    "# phép cộng trong numpy là cộng các phần tử cùng chỉ số với nhau\n",
    "numpy_m = numpy_data + numpy_data_2   \n",
    "print(numpy_m) # [1+3, 2+4]\n",
    "#---------------------------------#\n",
    "\n",
    "\n",
    "# PHÉP NHÂN VỚI MỘT SỐ TỰ NHIÊN TRONG LIST VÀ NUMPY\n",
    "# Trong list, phép nhân với một số là phép thêm vào cuối mảng n lần mảng đó.\n",
    "# Xem ví dụ: ( chỉ nhân được với số tự nhiên )\n",
    "multi_list = list_data * 3\n",
    "print(multi_list)  # [6, 5, 6, 5, 6, 5]\n",
    "#---------------------------------#\n",
    "\n",
    "# trong numpy, phép nhân với một số là nhân từng phần tử của mảng với số đó. \n",
    "# thể hiện tính chất của ma trận ( nhân được với mọi số thực)\n",
    "multi_num = numpy_data * (-3.5)\n",
    "print(multi_num)   # [-3, -6]\n",
    "#---------------------------------#\n",
    "\n",
    "# trong numpy, phép nhân của numpy với nhau là kết quả của phép nhân từng phần tử \n",
    "# của numpy này cho numpy kia\n",
    "multiple_numpy = numpy_data * numpy_data_2\n",
    "print(multiple_numpy)  # [3 8]\n",
    "#---------------------------------#\n",
    "\n",
    "# trong list, phép nhân của list này với list kia không tồn tại.\n",
    "multiple_list = list_data * list_data_2\n",
    "print(multiple_list) # TYPE_ERROR\n"
   ]
  },
  {
   "cell_type": "markdown",
   "metadata": {},
   "source": [
    "### 9. Sort trong danh sách"
   ]
  },
  {
   "cell_type": "code",
   "execution_count": 58,
   "metadata": {},
   "outputs": [
    {
     "name": "stdout",
     "output_type": "stream",
     "text": [
      "[6, 5, 4, 2, 1]\n",
      "[1, 3, 5, 6, 9]\n",
      "[8 7 4 2 2 1]\n",
      "[1 2 3 4 5 7 8]\n"
     ]
    }
   ],
   "source": [
    "# khai báo mảng list\n",
    "list_data = [6, 5, 4, 1, 2]\n",
    "list_data_2 = [1, 9, 5, 6, 3]\n",
    "\n",
    "# khai báo mảng numpy\n",
    "numpy_data = np.array([1, 2, 4, 7, 2, 8])\n",
    "numpy_data_2 = np.array([3, 5 ,4, 7, 8, 1, 2])\n",
    "\n",
    "# Sort trong list: có thể sử dụng hàm built-in hoặc phương thức sort(Reverse = )\n",
    "# hàm built-in phải gán.\n",
    "list_data.sort(reverse = True)                              # [6, 5, 4, 2, 1]\n",
    "list_data_2 = sorted(list_data_2, reverse = False)          # [1, 3, 5, 6, 9] \n",
    "\n",
    "print(list_data)\n",
    "print(list_data_2)\n",
    "#-----------------------------------------#\n",
    "\n",
    "# sort trong numpy: có thể sử dụng numpy_built_in, phương thức np.sort() hoặc\n",
    "# hàm built-in sorted()\n",
    "# lưu ý:  muốn sort ngược chỉ có thể dùng [::-1] hoặc dùng sorted().\n",
    "numpy_data.sort()                             # [1 2 2 4 7 8]\n",
    "numpy_data = numpy_data[::-1]                 # [8 7 4 2 2 1]\n",
    "numpy_data_2 = np.sort(numpy_data_2)          # [1 2 3 4 5 7 8]\n",
    "\n",
    "print(numpy_data)\n",
    "print(numpy_data_2)\n"
   ]
  },
  {
   "cell_type": "markdown",
   "metadata": {},
   "source": [
    "### 10. Xóa phần tử trong danh sách"
   ]
  },
  {
   "cell_type": "code",
   "execution_count": 74,
   "metadata": {},
   "outputs": [
    {
     "name": "stdout",
     "output_type": "stream",
     "text": [
      "[1 2 4 7 5 4]\n",
      "[1 2 7 5]\n"
     ]
    }
   ],
   "source": [
    "# trong list, muốn xóa phần tử theo index thì dùng pop(index), muốn xóa theo\n",
    "# phần tử mình muốn thì dùng remove(element), lưu ý chỉ xóa được phần tử đầu tiên.\n",
    "\n",
    "# trong numpy, ta chỉ có một phương thức duy nhất: np.delete(arr, remove_index_arr)\n",
    "#       với:             \n",
    "#                   arr                 : mảng có phần tử cần xóa\n",
    "#                   remove_index_arr    : mảng những index chứa phần tử đó\n",
    "\n",
    "# nếu muốn xóa tại vị trí nào đó, cần khai báo: np.delete(arr, remove_index) ( không cần mảng)\n",
    "# nếu muốn xóa phần tử nào đó (ví dụ là 5), cần thực hiện hai bước:\n",
    "\n",
    "# B1: removed_index_arr = np.where(arr = 5) ( nếu muốn xóa tại vị trí đầu tiên thì thêm [0][0])\n",
    "# B2: np.delete(arr, remove_index_arr)\n",
    "\n",
    "\n",
    "# ví dụ:\n",
    "\n",
    "# tạo mảng bằng numpy:\n",
    "an_arr = np.array([1,3,2,4,7,5,4,3])\n",
    "\n",
    "\n",
    "# tuple các index có số 3.\n",
    "remove_arr = np.where(an_arr == 3)\n",
    "\n",
    "# delete first element 3\n",
    "# remove_arr = np.where(an_arr == 3)[0][0]\n",
    "\n",
    "# delete all numbers equal 3.\n",
    "an_arr = np.delete(an_arr, remove_arr)\n",
    "print(an_arr)   # [1 2 4 7 5 4]\n",
    "\n"
   ]
  },
  {
   "cell_type": "markdown",
   "metadata": {},
   "source": [
    "### 11. xóa nhiều phần tử trong danh sách"
   ]
  },
  {
   "cell_type": "code",
   "execution_count": 79,
   "metadata": {},
   "outputs": [
    {
     "name": "stdout",
     "output_type": "stream",
     "text": [
      "[1 2 8 9]\n",
      "\n",
      "[1 9]\n"
     ]
    }
   ],
   "source": [
    "# create data\n",
    "a_data = np.array([1, 2, 3, 5, 6, 8, 9])\n",
    "\n",
    "# delete element: 3 5 6\n",
    "a_data = np.delete(a_data, np.arange(2,5))\n",
    "print(a_data)\n",
    "print()\n",
    "\n",
    "# delete 2 8\n",
    "a_data = np.concatenate((a_data[:1], a_data[3:]))\n",
    "print(a_data)"
   ]
  },
  {
   "cell_type": "markdown",
   "metadata": {},
   "source": [
    "### 12. Trả về vị trí index đầu tiên của số cần tìm. Đếm số lần xuất hiện."
   ]
  },
  {
   "cell_type": "code",
   "execution_count": 87,
   "metadata": {},
   "outputs": [
    {
     "name": "stdout",
     "output_type": "stream",
     "text": [
      "[1 4]\n",
      "\n",
      "[False  True False False  True False False]\n",
      "2\n"
     ]
    }
   ],
   "source": [
    "# create data\n",
    "a_data = np.array([1, 2, 3, 5, 2, 8, 9])\n",
    "\n",
    "\n",
    "# find 2 (first index)\n",
    "print(np.where(a_data == 2)[0])\n",
    "print()\n",
    "\n",
    "\n",
    "# đếm số lần xuất hiện của một số. lưu ý, khi ghi (a_data ==2), \n",
    "# một list có data type là bool sẽ được tạo, với những index của \n",
    "# 2 có giá trị là True, còn lại là false.\n",
    "count_type = (a_data == 2)\n",
    "count = (a_data == 2).sum()\n",
    "print(count_type)\n",
    "print(count)"
   ]
  },
  {
   "cell_type": "markdown",
   "metadata": {},
   "source": [
    "#### ***high note: array can't contain any data type without number type.***"
   ]
  },
  {
   "cell_type": "markdown",
   "metadata": {},
   "source": [
    "### 13. copy array and list"
   ]
  },
  {
   "cell_type": "code",
   "execution_count": 88,
   "metadata": {},
   "outputs": [
    {
     "name": "stdout",
     "output_type": "stream",
     "text": [
      "[2 1 4 2 6 8 3 6]\n"
     ]
    }
   ],
   "source": [
    "# same as list, numpy can use copy() function for copying any data from different numpy.\n",
    "\n",
    "# create data\n",
    "data = np.array([2,1,4,2,6,8,3,6])\n",
    "\n",
    "new_copy = np.copy(data)\n",
    "print(new_copy)  # copying"
   ]
  },
  {
   "cell_type": "markdown",
   "metadata": {},
   "source": [
    "### 14. len, min and max in Numpy"
   ]
  },
  {
   "cell_type": "code",
   "execution_count": 94,
   "metadata": {},
   "outputs": [
    {
     "name": "stdout",
     "output_type": "stream",
     "text": [
      "1, 8, 12\n",
      "(12,)\n"
     ]
    }
   ],
   "source": [
    "# create data\n",
    "data = np.array([1,5,3,6,3,6,7,7,8,3,5,2])\n",
    "\n",
    "print(f'{np.min(data)}, {np.max(data)}, {len(data)}')   # 1, 8, 12\n",
    "\n",
    "\n",
    "# warning : len() function not available in numpy, using built-in function.\n",
    "\n",
    "# SOS\n",
    "# demensional in numpy - array. - not a methods, not ().\n",
    "print(data.shape)  # (12,)"
   ]
  },
  {
   "cell_type": "markdown",
   "metadata": {},
   "source": [
    "### 15. Sum and Zip in Numpy"
   ]
  },
  {
   "cell_type": "code",
   "execution_count": 111,
   "metadata": {},
   "outputs": [
    {
     "name": "stdout",
     "output_type": "stream",
     "text": [
      "6\n",
      "[[1 3]\n",
      " [2 4]\n",
      " [3 5]]\n",
      "[[[1 3]\n",
      "  [2 4]\n",
      "  [3 5]]]\n"
     ]
    }
   ],
   "source": [
    "# khai báo mảng numpy\n",
    "numpy_data = np.array([1, 2, 3])\n",
    "numpy_data_2 = np.array([3, 4, 5])\n",
    "\n",
    "# sum methods in Numpy\n",
    "print(np.sum(numpy_data))  # 6\n",
    "\n",
    "# zip method in Numpy ( using dstack --> for stacking) \n",
    "# dstack nhận vào tuple, tách từng cặp trên-dưới rồi phát triển theo chiều dọc.\n",
    "zipped_arr = np.dstack((numpy_data, numpy_data_2))[0]\n",
    "\n",
    "for elements in range(len(zipped_arr)):\n",
    "    print(zipped_arr[elements])\n",
    "\n",
    "print(zipped_arr)\n"
   ]
  },
  {
   "cell_type": "markdown",
   "metadata": {},
   "source": [
    "### 16. lấy cả index và giá trị trong cùng một lệnh"
   ]
  },
  {
   "cell_type": "code",
   "execution_count": 117,
   "metadata": {},
   "outputs": [
    {
     "name": "stdout",
     "output_type": "stream",
     "text": [
      "(0,) 1\n",
      "(1,) 2\n",
      "(2,) 3\n"
     ]
    }
   ],
   "source": [
    "# implemented by @wanghii\n",
    "# using np.ndenumerate. index is a tuple --> protection data.\n",
    "\n",
    "a = np.array([1,2,3])\n",
    "\n",
    "for index, value in np.ndenumerate(a):\n",
    "    print(index, value)"
   ]
  },
  {
   "cell_type": "markdown",
   "metadata": {},
   "source": [
    "### 17. tính tổng các số chẵn + tổng các số tại index chẵn"
   ]
  },
  {
   "cell_type": "code",
   "execution_count": 124,
   "metadata": {},
   "outputs": [
    {
     "name": "stdout",
     "output_type": "stream",
     "text": [
      "[2 4 6 8]\n",
      "20\n",
      "\n",
      "[2 4 6 9]\n",
      "21\n"
     ]
    }
   ],
   "source": [
    "arr = np.array([1, 2, 3, 4, 5, 6, 7, 9, 8])\n",
    "\n",
    "# sum of even numbers\n",
    "\n",
    "# create an array which contains nums even.\n",
    "even_arr = arr[arr % 2 == 0]\n",
    "\n",
    "# print preview \n",
    "print(even_arr)\n",
    "\n",
    "# calculate sum of even_arr\n",
    "print(np.sum(even_arr))\n",
    "print()\n",
    "\n",
    "# ----------------------------- #\n",
    "\n",
    "# sum of values from even indices\n",
    "even_idx_arr = arr[1::2]\n",
    "print(even_idx_arr)\n",
    "print(np.sum(even_idx_arr))\n",
    "\n",
    "\n"
   ]
  },
  {
   "cell_type": "markdown",
   "metadata": {},
   "source": [
    "### 18. Advanced index. Boolean array."
   ]
  },
  {
   "cell_type": "code",
   "execution_count": 128,
   "metadata": {},
   "outputs": [
    {
     "name": "stdout",
     "output_type": "stream",
     "text": [
      "[2 4]\n",
      "[4 5]\n"
     ]
    }
   ],
   "source": [
    "# we can query many values at the same time with advanced index.\n",
    "# ex:\n",
    "a = np.array([1, 2, 3, 4, 5])\n",
    "\n",
    "# [1, 3] is a list of indices need to access.\n",
    "print(a[[1, 3]])                # print 2 and 4 in an array.\n",
    "\n",
    "\n",
    "# using Boolean in Numpy to access.\n",
    "print(a[a > 3])\n"
   ]
  },
  {
   "cell_type": "markdown",
   "metadata": {},
   "source": [
    "### 19. More advanced indices"
   ]
  },
  {
   "cell_type": "code",
   "execution_count": 138,
   "metadata": {},
   "outputs": [
    {
     "name": "stdout",
     "output_type": "stream",
     "text": [
      "[1 2 3 4 2 3 4 5]\n",
      "[1 2 3 4]\n",
      "[[1 2]\n",
      " [3 2]\n",
      " [3 4]]\n"
     ]
    }
   ],
   "source": [
    "# create an array\n",
    "arr1 = np.array([1, 2, 3, 4])\n",
    "arr2 = np.array([2, 3, 4, 5])\n",
    "arr3 = np.array([[1, 2],\n",
    "                [3, 4]])\n",
    "arr4 = np.array([[1, 2, 3],\n",
    "                [2, 3, 4]])\n",
    "\n",
    "# nối 2 array --> khi sử dụng concatenate phải đưa hai biến vào tuple trước khi gọi hàm\n",
    "arr_result = np.concatenate((arr1 , arr2))\n",
    "\n",
    "\n",
    "#  chuyển từ ma trận nhiều chiều thành một chiều --> hàm này chỉ dành cho đối tượng, không phải\n",
    "# phương thức của np\n",
    "arr_1D = arr3.flatten()  \n",
    "\n",
    "\n",
    "# reshape lại ma trận - chỉ dành cho đối tượng, reshape theo hàng - cột\n",
    "arr_reshape = arr4.reshape(3, 2)\n",
    "\n",
    "\n",
    "print(arr_result)\n",
    "print(arr_1D)\n",
    "print(arr_reshape)"
   ]
  },
  {
   "cell_type": "markdown",
   "metadata": {},
   "source": [
    "### 20. Broadcasting in Numpy - important"
   ]
  },
  {
   "cell_type": "code",
   "execution_count": 144,
   "metadata": {},
   "outputs": [
    {
     "name": "stdout",
     "output_type": "stream",
     "text": [
      "[[2 4]\n",
      " [4 6]\n",
      " [6 8]]\n",
      "[[ 1  4]\n",
      " [ 3  8]\n",
      " [ 5 12]]\n"
     ]
    }
   ],
   "source": [
    "# cộng - nhân hai vector không cùng chiều (mismatch shape) \n",
    "a = np.array([[1, 2], [3, 4], [5, 6]])  # matrix 3x2\n",
    "b = np.array([1, 2])                    # matrix 2x1\n",
    "\n",
    "\n",
    "# cơ chế thực thi: mở rộng array kích thước nhỏ để phù hợp cho vector kích thước lớn\n",
    "# trong trường hợp này, ta mở rộng vector b --> ([1, 2], [1, 2], [1, 2]) rồi cộng\n",
    "# tương ứng từng vị trí (elements-wise) cho vector a. Lưu ý: số cột phải giống nhau.\n",
    "\n",
    "c = a + b   # a+b mở rộng 3 hàng \n",
    "d = a*b     # a*b mở rộng 3 hàng\n",
    "print(c, d, sep='\\n')\n",
    " "
   ]
  },
  {
   "cell_type": "markdown",
   "metadata": {},
   "source": [
    "### 21. Vectorization in Numpy - faster than list"
   ]
  },
  {
   "cell_type": "code",
   "execution_count": 151,
   "metadata": {},
   "outputs": [
    {
     "name": "stdout",
     "output_type": "stream",
     "text": [
      "[ 5 12 21 32]\n",
      "[5, 12, 21, 32]\n"
     ]
    }
   ],
   "source": [
    "# by vectorization, we don't have to use loop.\n",
    "a = np.array([1, 2, 3, 4])\n",
    "b = np.array([5, 6, 7, 8])\n",
    "\n",
    "# vectorization\n",
    "p = a*b\n",
    "\n",
    "\n",
    "# in list\n",
    "c = [1, 2, 3, 4]\n",
    "d = [5, 6, 7, 8]\n",
    "\n",
    "\n",
    "# for + list comprehension\n",
    "result = [x*y for x, y in zip(a, b)]\n",
    "\n",
    "\n",
    "print(p)\n",
    "print(result)"
   ]
  }
 ],
 "metadata": {
  "kernelspec": {
   "display_name": "Python 3",
   "language": "python",
   "name": "python3"
  },
  "language_info": {
   "codemirror_mode": {
    "name": "ipython",
    "version": 3
   },
   "file_extension": ".py",
   "mimetype": "text/x-python",
   "name": "python",
   "nbconvert_exporter": "python",
   "pygments_lexer": "ipython3",
   "version": "3.12.3"
  }
 },
 "nbformat": 4,
 "nbformat_minor": 2
}
